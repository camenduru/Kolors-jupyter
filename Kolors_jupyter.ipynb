{
  "cells": [
    {
      "cell_type": "markdown",
      "metadata": {
        "id": "view-in-github"
      },
      "source": [
        "[![Open In Colab](https://colab.research.google.com/assets/colab-badge.svg)](https://colab.research.google.com/github/camenduru/Kolors-jupyter/blob/main/Kolors_jupyter.ipynb)"
      ]
    },
    {
      "cell_type": "code",
      "execution_count": null,
      "metadata": {
        "id": "VjYy0F2gZIPR"
      },
      "outputs": [],
      "source": [
        "%cd /content\n",
        "!git clone -b dev https://github.com/camenduru/Kolors\n",
        "%cd /content/Kolors\n",
        "!pip install diffusers==0.28.2 transformers==4.26.1 accelerate==0.27.2 omegaconf==2.3.0 sentencepiece==0.1.99\n",
        "!pip install -e .\n",
        "!git clone https://huggingface.co/Kwai-Kolors/Kolors /content/Kolors/weights/Kolors"
      ]
    },
    {
      "cell_type": "code",
      "execution_count": null,
      "metadata": {},
      "outputs": [],
      "source": [
        "!python scripts/sample.py \"一张瓢虫的照片，微距，变焦，高质量，电影，拿着一个牌子，写着“可图”\""
      ]
    }
  ],
  "metadata": {
    "accelerator": "GPU",
    "colab": {
      "gpuType": "T4",
      "provenance": []
    },
    "kernelspec": {
      "display_name": "Python 3",
      "name": "python3"
    },
    "language_info": {
      "name": "python"
    }
  },
  "nbformat": 4,
  "nbformat_minor": 0
}
